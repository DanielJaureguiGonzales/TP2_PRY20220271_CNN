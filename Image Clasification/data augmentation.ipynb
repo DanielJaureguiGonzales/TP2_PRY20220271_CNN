{
 "cells": [
  {
   "cell_type": "code",
   "execution_count": 1,
   "id": "d0ae2481-5b20-4e13-9fc0-5503632604e7",
   "metadata": {},
   "outputs": [],
   "source": [
    "import numpy as np\n",
    "import tensorflow as tf\n",
    "import os\n",
    "import cv2\n",
    "import imghdr\n",
    "from matplotlib import pyplot as plt\n",
    "from tensorflow.keras.preprocessing import image\n",
    "from tensorflow.keras.preprocessing.image import ImageDataGenerator, load_img, img_to_array\n"
   ]
  },
  {
   "cell_type": "code",
   "execution_count": 8,
   "id": "b27c56ed-0416-4656-99c3-173e1a1959d6",
   "metadata": {
    "tags": []
   },
   "outputs": [
    {
     "name": "stdout",
     "output_type": "stream",
     "text": [
      "\n",
      "images generated 2730\n"
     ]
    }
   ],
   "source": [
    "Augmented_images_stage_1 = 'augmented_data/4'\n",
    "image_increased = 10\n",
    "\n",
    "try:\n",
    "    os.mkdir(Augmented_images_stage_1)\n",
    "except:\n",
    "    print(\"\")\n",
    "\n",
    "train_datagen = ImageDataGenerator(\n",
    "    width_shift_range=0.15,\n",
    "    height_shift_range = 0.15,\n",
    "    brightness_range=(0.2,1.1),\n",
    "    zoom_range=0.1,\n",
    "    horizontal_flip=True,\n",
    "    vertical_flip=True\n",
    ")\n",
    "\n",
    "data_path = \"data/4\" \n",
    "data_dir_list = os.listdir(data_path)\n",
    "\n",
    "width_shape, height_shape= 224,224\n",
    "\n",
    "i=0\n",
    "num_images=0\n",
    "\n",
    "for image_file in data_dir_list:\n",
    "    img_list=os.listdir(data_path)\n",
    "\n",
    "    img_path = data_path + '/'+ image_file\n",
    "\n",
    "    imge=load_img(img_path)\n",
    "    \n",
    "    imge=cv2.resize(image.img_to_array(imge), (width_shape, height_shape), interpolation = cv2.INTER_AREA)\n",
    "    x= imge/255\n",
    "    x=np.expand_dims(x,axis=0)\n",
    "    t=1\n",
    "    for output_batch in train_datagen.flow(x,batch_size=1):\n",
    "        a=image.img_to_array(output_batch[0])\n",
    "        imagen=output_batch[0,:,:]\n",
    "        imgfinal = cv2.cvtColor(imagen, cv2.COLOR_BGR2RGB)\n",
    "        cv2.imwrite(Augmented_images_stage_1+\"/%i%i.jpg\"%(i,t), imgfinal) \n",
    "        t+=1\n",
    "        \n",
    "        num_images+=1\n",
    "        if t>image_increased:\n",
    "            break\n",
    "    i+=1\n",
    "    \n",
    "print(\"images generated\", num_images)\n"
   ]
  },
  {
   "cell_type": "code",
   "execution_count": null,
   "id": "dc95c962-a20f-4462-827e-505b062aaf37",
   "metadata": {},
   "outputs": [],
   "source": []
  },
  {
   "cell_type": "code",
   "execution_count": null,
   "id": "37299a55-7357-494b-a9a5-6706c10d4fda",
   "metadata": {},
   "outputs": [],
   "source": []
  }
 ],
 "metadata": {
  "kernelspec": {
   "display_name": "imageclassification",
   "language": "python",
   "name": "imageclassification"
  },
  "language_info": {
   "codemirror_mode": {
    "name": "ipython",
    "version": 3
   },
   "file_extension": ".py",
   "mimetype": "text/x-python",
   "name": "python",
   "nbconvert_exporter": "python",
   "pygments_lexer": "ipython3",
   "version": "3.10.9"
  }
 },
 "nbformat": 4,
 "nbformat_minor": 5
}
